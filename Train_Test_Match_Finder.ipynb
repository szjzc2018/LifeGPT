{
 "cells": [
  {
   "cell_type": "code",
   "execution_count": 4,
   "metadata": {},
   "outputs": [
    {
     "name": "stdout",
     "output_type": "stream",
     "text": [
      "Test samples that match training samples:\n",
      "                                                   0\n",
      "0                                            State 1\n",
      "1  0000000000000000000000000000000000000000000000...\n",
      "5  1111111111111111111111111111111111111111111111...\n"
     ]
    }
   ],
   "source": [
    "##This code looks to see if any of the testing set samples are identical to training set samples\n",
    "import pandas as pd\n",
    "\n",
    "# File paths\n",
    "training_file ='LifeGPT//conway_states_0_1_10000by32by32by10_toroidal_20240711_133408.csv'\n",
    "test_file ='LifeGPT//conway_test_states_32by32_20240716_151502.csv'\n",
    "\n",
    "# Load the datasets, selecting only the first column\n",
    "training_data = pd.read_csv(training_file, usecols=[0], header=None)\n",
    "test_data = pd.read_csv(test_file, usecols=[0], header=None)\n",
    "\n",
    "# Check for matches\n",
    "matches = test_data[test_data[0].isin(training_data[0])]\n",
    "\n",
    "if not matches.empty:\n",
    "    print(f\"Test samples that match training samples:/n{matches}\")\n",
    "else:\n",
    "    print(\"No matching samples found.\")\n"
   ]
  },
  {
   "cell_type": "markdown",
   "metadata": {},
   "source": [
    "Samples 1 and 5 matching is expected, as these are the 'all 0s' and 'all 1s' test-cases, which are the 1st and 10,000th samples in the training sert respectively."
   ]
  },
  {
   "cell_type": "code",
   "execution_count": 5,
   "metadata": {},
   "outputs": [
    {
     "name": "stdout",
     "output_type": "stream",
     "text": [
      "Test samples that match training samples:\n",
      "                                                   0\n",
      "0                                            State 1\n",
      "1  0000000000000000000000000000000000000000000000...\n",
      "5  1111111111111111111111111111111111111111111111...\n"
     ]
    }
   ],
   "source": [
    "##This code looks to see if any of the testing set samples are identical to training set samples\n",
    "import pandas as pd\n",
    "\n",
    "# File paths\n",
    "training_file ='LifeGPT//conway_states_0_1_10000by32by32by10_toroidal_20240711_133408.csv'\n",
    "test_file ='LifeGPT//conway_test_states_32by32_20240827_172807.csv'\n",
    "\n",
    "# Load the datasets, selecting only the first column\n",
    "training_data = pd.read_csv(training_file, usecols=[0], header=None)\n",
    "test_data = pd.read_csv(test_file, usecols=[0], header=None)\n",
    "\n",
    "# Check for matches\n",
    "matches = test_data[test_data[0].isin(training_data[0])]\n",
    "\n",
    "if not matches.empty:\n",
    "    print(f\"Test samples that match training samples:/n{matches}\")\n",
    "else:\n",
    "    print(\"No matching samples found.\")\n"
   ]
  },
  {
   "cell_type": "markdown",
   "metadata": {},
   "source": []
  },
  {
   "cell_type": "markdown",
   "metadata": {},
   "source": [
    "The above is just a doublecheck -- the 20240711_133408 file contains the same ICs as the 20240716_151502 file -- the only difference is that 20240711_133408 contains 249 NGSs while the other only has 9 NGSs. "
   ]
  }
 ],
 "metadata": {
  "kernelspec": {
   "display_name": "ML_Playground_1",
   "language": "python",
   "name": "python3"
  },
  "language_info": {
   "codemirror_mode": {
    "name": "ipython",
    "version": 3
   },
   "file_extension": ".py",
   "mimetype": "text/x-python",
   "name": "python",
   "nbconvert_exporter": "python",
   "pygments_lexer": "ipython3",
   "version": "3.8.18"
  }
 },
 "nbformat": 4,
 "nbformat_minor": 2
}
